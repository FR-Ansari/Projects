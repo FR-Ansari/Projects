{
 "cells": [
  {
   "cell_type": "code",
   "execution_count": null,
   "id": "7d79aaf4-4cef-44b0-809d-4bb6c6b22015",
   "metadata": {},
   "outputs": [],
   "source": [
    "# Advanced Calculator Application with Additional Features\n"
   ]
  },
  {
   "cell_type": "code",
   "execution_count": 2,
   "id": "61467fe2-961e-4aa8-b944-5d4e819861c5",
   "metadata": {},
   "outputs": [],
   "source": [
    "\n",
    "# --> Function to display the menu and get the user's choice\n",
    "def display_menu():\n",
    "    \n",
    "    # -->Displaying the list of available operations to the user\n",
    "    print(\"\\nAdvanced Calculator\")\n",
    "    print(\"1. Addition (+)\")\n",
    "    print(\"2. Subtraction (-)\")\n",
    "    print(\"3. Multiplication (*)\")\n",
    "    print(\"4. Division (/)\")\n",
    "    print(\"5. Modulus (%)\")                       # Finds the remainder of division\n",
    "    print(\"6. Power (x^y)\")                       # Raises a number to the power of another\n",
    "    print(\"7. Square Root (√x)\")                  # Calculates the square root of a number\n",
    "    print(\"8. Exit\")                              # Option to exit the application\n",
    "    \n",
    "    # --> Prompting the user to enter their choice\n",
    "    choice = input(\"Enter your choice (1-8): \")\n",
    "    return choice\n"
   ]
  },
  {
   "cell_type": "code",
   "execution_count": 4,
   "id": "293f6662-e0c1-407d-96d7-3995a9770565",
   "metadata": {},
   "outputs": [],
   "source": [
    "# ---> Function to perform the calculation based on the chosen operation\n",
    "\n",
    "def calculate(num1, num2, operation):\n",
    "    if operation == '1':\n",
    "        return num1 + num2                       # Perform addition\n",
    "    elif operation == '2':\n",
    "        return num1 - num2                       # Perform subtraction\n",
    "    elif operation == '3':\n",
    "        return num1 * num2                       # Perform multiplication\n",
    "    elif operation == '4':\n",
    "        if num2 != 0:\n",
    "            return num1 / num2                   # Perform division, ensuring denominator isn't zero\n",
    "        else:\n",
    "            return \"Error: Division by zero\"    # Handle division by zero error\n",
    "    elif operation == '5':\n",
    "        return num1 % num2                      # Perform modulus operation\n",
    "    elif operation == '6':\n",
    "        return num1 ** num2                     # Perform power calculation\n",
    "    else:\n",
    "        return \"Invalid operation\"              # Handle invalid operation codes\n"
   ]
  },
  {
   "cell_type": "code",
   "execution_count": 6,
   "id": "663d89b4-81af-4bad-b28a-ca3ff8c3ca96",
   "metadata": {},
   "outputs": [],
   "source": [
    "# Function to calculate the square root of a number\n",
    "def calculate_square_root(num):\n",
    "    if num >= 0:\n",
    "        return num ** 0.5                                                   # Return the square root if the number is non-negative\n",
    "    else:\n",
    "        return \"Error: Cannot calculate square root of a negative number\"  # Handle negative inputs\n"
   ]
  },
  {
   "cell_type": "code",
   "execution_count": 12,
   "id": "a100ffd7-075f-49c6-a3ab-a4017c4a8644",
   "metadata": {},
   "outputs": [],
   "source": [
    "\n",
    "\n",
    "            "
   ]
  },
  {
   "cell_type": "code",
   "execution_count": 20,
   "id": "a4733dbb-9d06-4b5d-9c0b-204d4aa18eef",
   "metadata": {},
   "outputs": [],
   "source": [
    "# --->  Main function to run the calculator\n",
    "\n",
    "def main():\n",
    "    while True:\n",
    "        choice = display_menu()                        # Display the menu to the user and get their choice\n",
    "\n",
    "        if choice == '8':                              # Check if the user wants to exit the application\n",
    "            print(\"Exiting the calculator. Goodbye!\")\n",
    "            break\n",
    "            \n",
    "# --->   If the choice involves two numbers (1-6)\n",
    "        if choice in ['1', '2', '3', '4', '5', '6']:\n",
    "            try:\n",
    "                # Get the first number from the user\n",
    "                num1 = float(input(\"Enter the first number: \"))\n",
    "                # Get the second number from the user\n",
    "                num2 = float(input(\"Enter the second number: \"))\n",
    "\n",
    "                # Perform the chosen calculation\n",
    "                result = calculate(num1, num2, choice)\n",
    "\n",
    "                # Display the result of the operation\n",
    "                print(f\"Result: {result}\\n\")\n",
    "                \n",
    "            except ValueError:\n",
    "                # Handle invalid inputs that cannot be converted to numbers\n",
    "                print(\"Error: Invalid input. Please enter numeric values.\\n\")\n",
    "                \n",
    "        elif choice == '7':\n",
    "            # If the choice is square root (7), only one number is needed\n",
    "            try:\n",
    "                num = float(input(\"Enter the number: \"))  # Get the number from the user\n",
    "\n",
    "                # Perform the square root calculation\n",
    "                result = calculate_square_root(num)\n",
    "\n",
    "                # Display the result of the square root operation\n",
    "                print(f\"Result: {result}\\n\")\n",
    "                \n",
    "            except ValueError:\n",
    "                # Handle invalid inputs that cannot be converted to numbers\n",
    "                print(\"Error: Invalid input. Please enter a numeric value.\\n\")\n",
    "        else:\n",
    "            # Handle invalid menu choices\n",
    "            print(\"Invalid choice. Please select a valid operation.\\n\")\n"
   ]
  },
  {
   "cell_type": "code",
   "execution_count": 18,
   "id": "1de2cb47-7f33-475b-a378-718224dce2f0",
   "metadata": {},
   "outputs": [
    {
     "name": "stdout",
     "output_type": "stream",
     "text": [
      "\n",
      "Advanced Calculator\n",
      "1. Addition (+)\n",
      "2. Subtraction (-)\n",
      "3. Multiplication (*)\n",
      "4. Division (/)\n",
      "5. Modulus (%)\n",
      "6. Power (x^y)\n",
      "7. Square Root (√x)\n",
      "8. Exit\n"
     ]
    },
    {
     "name": "stdin",
     "output_type": "stream",
     "text": [
      "Enter your choice (1-8):  1\n",
      "Enter the first number:  2\n",
      "Enter the second number:  2\n"
     ]
    },
    {
     "name": "stdout",
     "output_type": "stream",
     "text": [
      "Result: 4.0\n",
      "\n",
      "\n",
      "Advanced Calculator\n",
      "1. Addition (+)\n",
      "2. Subtraction (-)\n",
      "3. Multiplication (*)\n",
      "4. Division (/)\n",
      "5. Modulus (%)\n",
      "6. Power (x^y)\n",
      "7. Square Root (√x)\n",
      "8. Exit\n"
     ]
    },
    {
     "name": "stdin",
     "output_type": "stream",
     "text": [
      "Enter your choice (1-8):  2\n",
      "Enter the first number:  2\n",
      "Enter the second number:  1\n"
     ]
    },
    {
     "name": "stdout",
     "output_type": "stream",
     "text": [
      "Result: 1.0\n",
      "\n",
      "\n",
      "Advanced Calculator\n",
      "1. Addition (+)\n",
      "2. Subtraction (-)\n",
      "3. Multiplication (*)\n",
      "4. Division (/)\n",
      "5. Modulus (%)\n",
      "6. Power (x^y)\n",
      "7. Square Root (√x)\n",
      "8. Exit\n"
     ]
    },
    {
     "name": "stdin",
     "output_type": "stream",
     "text": [
      "Enter your choice (1-8):  3\n",
      "Enter the first number:  2\n",
      "Enter the second number:  5\n"
     ]
    },
    {
     "name": "stdout",
     "output_type": "stream",
     "text": [
      "Result: 10.0\n",
      "\n",
      "\n",
      "Advanced Calculator\n",
      "1. Addition (+)\n",
      "2. Subtraction (-)\n",
      "3. Multiplication (*)\n",
      "4. Division (/)\n",
      "5. Modulus (%)\n",
      "6. Power (x^y)\n",
      "7. Square Root (√x)\n",
      "8. Exit\n"
     ]
    },
    {
     "name": "stdin",
     "output_type": "stream",
     "text": [
      "Enter your choice (1-8):  4\n",
      "Enter the first number:  10\n",
      "Enter the second number:  2\n"
     ]
    },
    {
     "name": "stdout",
     "output_type": "stream",
     "text": [
      "Result: 5.0\n",
      "\n",
      "\n",
      "Advanced Calculator\n",
      "1. Addition (+)\n",
      "2. Subtraction (-)\n",
      "3. Multiplication (*)\n",
      "4. Division (/)\n",
      "5. Modulus (%)\n",
      "6. Power (x^y)\n",
      "7. Square Root (√x)\n",
      "8. Exit\n"
     ]
    },
    {
     "name": "stdin",
     "output_type": "stream",
     "text": [
      "Enter your choice (1-8):  5\n",
      "Enter the first number:  10\n",
      "Enter the second number:  2\n"
     ]
    },
    {
     "name": "stdout",
     "output_type": "stream",
     "text": [
      "Result: 0.0\n",
      "\n",
      "\n",
      "Advanced Calculator\n",
      "1. Addition (+)\n",
      "2. Subtraction (-)\n",
      "3. Multiplication (*)\n",
      "4. Division (/)\n",
      "5. Modulus (%)\n",
      "6. Power (x^y)\n",
      "7. Square Root (√x)\n",
      "8. Exit\n"
     ]
    },
    {
     "name": "stdin",
     "output_type": "stream",
     "text": [
      "Enter your choice (1-8):  6\n",
      "Enter the first number:  2\n",
      "Enter the second number:  3\n"
     ]
    },
    {
     "name": "stdout",
     "output_type": "stream",
     "text": [
      "Result: 8.0\n",
      "\n",
      "\n",
      "Advanced Calculator\n",
      "1. Addition (+)\n",
      "2. Subtraction (-)\n",
      "3. Multiplication (*)\n",
      "4. Division (/)\n",
      "5. Modulus (%)\n",
      "6. Power (x^y)\n",
      "7. Square Root (√x)\n",
      "8. Exit\n"
     ]
    },
    {
     "name": "stdin",
     "output_type": "stream",
     "text": [
      "Enter your choice (1-8):  7\n",
      "Enter the number:  4\n"
     ]
    },
    {
     "name": "stdout",
     "output_type": "stream",
     "text": [
      "Result: 2.0\n",
      "\n",
      "\n",
      "Advanced Calculator\n",
      "1. Addition (+)\n",
      "2. Subtraction (-)\n",
      "3. Multiplication (*)\n",
      "4. Division (/)\n",
      "5. Modulus (%)\n",
      "6. Power (x^y)\n",
      "7. Square Root (√x)\n",
      "8. Exit\n"
     ]
    },
    {
     "name": "stdin",
     "output_type": "stream",
     "text": [
      "Enter your choice (1-8):  8\n"
     ]
    },
    {
     "name": "stdout",
     "output_type": "stream",
     "text": [
      "Exiting the calculator. Goodbye!\n"
     ]
    }
   ],
   "source": [
    "\n",
    "# Run the application\n",
    "if __name__ == \"__main__\":\n",
    "    main()\n"
   ]
  }
 ],
 "metadata": {
  "kernelspec": {
   "display_name": "Python 3 (ipykernel)",
   "language": "python",
   "name": "python3"
  },
  "language_info": {
   "codemirror_mode": {
    "name": "ipython",
    "version": 3
   },
   "file_extension": ".py",
   "mimetype": "text/x-python",
   "name": "python",
   "nbconvert_exporter": "python",
   "pygments_lexer": "ipython3",
   "version": "3.12.4"
  }
 },
 "nbformat": 4,
 "nbformat_minor": 5
}
