{
 "cells": [
  {
   "cell_type": "code",
   "execution_count": 3,
   "id": "df111ad6-b2ff-4ffa-a131-53c907c32d01",
   "metadata": {},
   "outputs": [],
   "source": [
    "# Importing necessary module\n",
    "# We will use the json module to save and load tasks from a file for data persistence.\n",
    "\n",
    "import json"
   ]
  },
  {
   "cell_type": "code",
   "execution_count": 5,
   "id": "eb789a42-72b4-404d-8706-59b68aca81ba",
   "metadata": {},
   "outputs": [],
   "source": [
    "# File to save tasks\n",
    "data_file = \"tasks.json\""
   ]
  },
  {
   "cell_type": "code",
   "execution_count": 7,
   "id": "2f66baaa-9764-4b50-bc85-ffd629ab3f52",
   "metadata": {},
   "outputs": [],
   "source": [
    "# Function to load tasks from the file\n",
    "def load_tasks():\n",
    "    try:\n",
    "        with open(data_file, \"r\") as file:\n",
    "            return json.load(file)\n",
    "    except FileNotFoundError:\n",
    "        # If file does not exist, return an empty list\n",
    "        return []\n",
    "    except json.JSONDecodeError:\n",
    "        # If file is corrupted or empty, return an empty list\n",
    "        return []"
   ]
  },
  {
   "cell_type": "code",
   "execution_count": 9,
   "id": "a9c9f1b1-e768-4668-9e12-dcd7d1a6aa76",
   "metadata": {},
   "outputs": [],
   "source": [
    "# Function to save tasks to the file\n",
    "def save_tasks(tasks):\n",
    "    with open(data_file, \"w\") as file:\n",
    "        json.dump(tasks, file)"
   ]
  },
  {
   "cell_type": "code",
   "execution_count": 11,
   "id": "b1674729-1bcd-46e6-8b69-13525e874942",
   "metadata": {},
   "outputs": [],
   "source": [
    "# Function to display the list of tasks\n",
    "def display_tasks(tasks):\n",
    "    if not tasks:\n",
    "        print(\"\\nYour task list is empty!\\n\")\n",
    "    else:\n",
    "        print(\"\\nHere is your To-Do List:\")\n",
    "        for index, task in enumerate(tasks, start=1):\n",
    "            status = \"✔️\" if task[\"completed\"] else \"❌\"\n",
    "            print(f\"{index}. {task['task']} [{status}]\")\n",
    "        print()"
   ]
  },
  {
   "cell_type": "code",
   "execution_count": 13,
   "id": "b36ec9db-e345-429e-910c-b8056a458636",
   "metadata": {},
   "outputs": [],
   "source": [
    "# Function to add a new task\n",
    "def add_task(tasks):\n",
    "    task_name = input(\"Enter the task you want to add: \")\n",
    "    tasks.append({\"task\": task_name, \"completed\": False})  # Adding a new task as a dictionary\n",
    "    print(f\"Task '{task_name}' has been added successfully!\\n\")\n"
   ]
  },
  {
   "cell_type": "code",
   "execution_count": 15,
   "id": "01f6c462-7d49-4d52-bbd2-4347be349166",
   "metadata": {},
   "outputs": [],
   "source": [
    "# Function to mark a task as complete\n",
    "def mark_complete(tasks):\n",
    "    display_tasks(tasks)\n",
    "    try:\n",
    "        task_number = int(input(\"Enter the task number to mark as complete: \"))\n",
    "        if 1 <= task_number <= len(tasks):\n",
    "            tasks[task_number - 1][\"completed\"] = True\n",
    "            print(f\"Task {task_number} marked as complete!\\n\")\n",
    "        else:\n",
    "            print(\"Invalid task number!\\n\")\n",
    "    except ValueError:\n",
    "        print(\"Please enter a valid number!\\n\")"
   ]
  },
  {
   "cell_type": "code",
   "execution_count": 17,
   "id": "5f61bb08-370c-42fa-ad85-c5c59e39f434",
   "metadata": {},
   "outputs": [],
   "source": [
    "# Function to delete a task\n",
    "def delete_task(tasks):\n",
    "    display_tasks(tasks)\n",
    "    try:\n",
    "        task_number = int(input(\"Enter the task number to delete: \"))\n",
    "        if 1 <= task_number <= len(tasks):\n",
    "            removed_task = tasks.pop(task_number - 1)\n",
    "            print(f\"Task '{removed_task['task']}' has been deleted!\\n\")\n",
    "        else:\n",
    "            print(\"Invalid task number!\\n\")\n",
    "    except ValueError:\n",
    "        print(\"Please enter a valid number!\\n\")"
   ]
  },
  {
   "cell_type": "code",
   "execution_count": 22,
   "id": "c1b587bb-d570-433e-aaaf-1a847e446f76",
   "metadata": {},
   "outputs": [],
   "source": [
    "# Main function to run the application\n",
    "def main():\n",
    "    tasks = load_tasks()  # Load tasks when the application starts\n",
    "\n",
    "    while True:\n",
    "        # Displaying menu options\n",
    "        print(\"\\nTo-Do List Application\")\n",
    "        print(\"1. View Tasks\")\n",
    "        print(\"2. Add Task\")\n",
    "        print(\"3. Mark Task as Complete\")\n",
    "        print(\"4. Delete Task\")\n",
    "        print(\"5. Exit\")\n",
    "\n",
    "        choice = input(\"Enter your choice: \")\n",
    "\n",
    "        if choice == '1':\n",
    "            display_tasks(tasks)  # View all tasks\n",
    "        elif choice == '2':\n",
    "            add_task(tasks)  # Add a new task\n",
    "        elif choice == '3':\n",
    "            mark_complete(tasks)  # Mark a task as complete\n",
    "        elif choice == '4':\n",
    "            delete_task(tasks)  # Delete a task\n",
    "        elif choice == '5':\n",
    "            save_tasks(tasks)  # Save tasks when exiting\n",
    "            print(\"Exiting the application. Goodbye!\")\n",
    "            break\n",
    "        else:\n",
    "            print(\"Invalid choice! Please try again.\\n\")"
   ]
  },
  {
   "cell_type": "code",
   "execution_count": 24,
   "id": "7de5db76-fad9-4a06-b023-4171cc2afde4",
   "metadata": {},
   "outputs": [
    {
     "name": "stdout",
     "output_type": "stream",
     "text": [
      "\n",
      "To-Do List Application\n",
      "1. View Tasks\n",
      "2. Add Task\n",
      "3. Mark Task as Complete\n",
      "4. Delete Task\n",
      "5. Exit\n"
     ]
    },
    {
     "name": "stdin",
     "output_type": "stream",
     "text": [
      "Enter your choice:  1\n"
     ]
    },
    {
     "name": "stdout",
     "output_type": "stream",
     "text": [
      "\n",
      "Your task list is empty!\n",
      "\n",
      "\n",
      "To-Do List Application\n",
      "1. View Tasks\n",
      "2. Add Task\n",
      "3. Mark Task as Complete\n",
      "4. Delete Task\n",
      "5. Exit\n"
     ]
    },
    {
     "name": "stdin",
     "output_type": "stream",
     "text": [
      "Enter your choice:  1\n"
     ]
    },
    {
     "name": "stdout",
     "output_type": "stream",
     "text": [
      "\n",
      "Your task list is empty!\n",
      "\n",
      "\n",
      "To-Do List Application\n",
      "1. View Tasks\n",
      "2. Add Task\n",
      "3. Mark Task as Complete\n",
      "4. Delete Task\n",
      "5. Exit\n"
     ]
    },
    {
     "name": "stdin",
     "output_type": "stream",
     "text": [
      "Enter your choice:  2\n",
      "Enter the task you want to add:  1. project for to do list\n"
     ]
    },
    {
     "name": "stdout",
     "output_type": "stream",
     "text": [
      "Task '1. project for to do list' has been added successfully!\n",
      "\n",
      "\n",
      "To-Do List Application\n",
      "1. View Tasks\n",
      "2. Add Task\n",
      "3. Mark Task as Complete\n",
      "4. Delete Task\n",
      "5. Exit\n"
     ]
    },
    {
     "name": "stdin",
     "output_type": "stream",
     "text": [
      "Enter your choice:  2\n",
      "Enter the task you want to add:  2. learn about project\n"
     ]
    },
    {
     "name": "stdout",
     "output_type": "stream",
     "text": [
      "Task '2. learn about project' has been added successfully!\n",
      "\n",
      "\n",
      "To-Do List Application\n",
      "1. View Tasks\n",
      "2. Add Task\n",
      "3. Mark Task as Complete\n",
      "4. Delete Task\n",
      "5. Exit\n"
     ]
    },
    {
     "name": "stdin",
     "output_type": "stream",
     "text": [
      "Enter your choice:  1\n"
     ]
    },
    {
     "name": "stdout",
     "output_type": "stream",
     "text": [
      "\n",
      "Here is your To-Do List:\n",
      "1. 1. project for to do list [❌]\n",
      "2. 2. learn about project [❌]\n",
      "\n",
      "\n",
      "To-Do List Application\n",
      "1. View Tasks\n",
      "2. Add Task\n",
      "3. Mark Task as Complete\n",
      "4. Delete Task\n",
      "5. Exit\n"
     ]
    },
    {
     "name": "stdin",
     "output_type": "stream",
     "text": [
      "Enter your choice:  3\n"
     ]
    },
    {
     "name": "stdout",
     "output_type": "stream",
     "text": [
      "\n",
      "Here is your To-Do List:\n",
      "1. 1. project for to do list [❌]\n",
      "2. 2. learn about project [❌]\n",
      "\n"
     ]
    },
    {
     "name": "stdin",
     "output_type": "stream",
     "text": [
      "Enter the task number to mark as complete:  2\n"
     ]
    },
    {
     "name": "stdout",
     "output_type": "stream",
     "text": [
      "Task 2 marked as complete!\n",
      "\n",
      "\n",
      "To-Do List Application\n",
      "1. View Tasks\n",
      "2. Add Task\n",
      "3. Mark Task as Complete\n",
      "4. Delete Task\n",
      "5. Exit\n"
     ]
    },
    {
     "name": "stdin",
     "output_type": "stream",
     "text": [
      "Enter your choice:  1\n"
     ]
    },
    {
     "name": "stdout",
     "output_type": "stream",
     "text": [
      "\n",
      "Here is your To-Do List:\n",
      "1. 1. project for to do list [❌]\n",
      "2. 2. learn about project [✔️]\n",
      "\n",
      "\n",
      "To-Do List Application\n",
      "1. View Tasks\n",
      "2. Add Task\n",
      "3. Mark Task as Complete\n",
      "4. Delete Task\n",
      "5. Exit\n"
     ]
    },
    {
     "name": "stdin",
     "output_type": "stream",
     "text": [
      "Enter your choice:  5\n"
     ]
    },
    {
     "name": "stdout",
     "output_type": "stream",
     "text": [
      "Exiting the application. Goodbye!\n"
     ]
    }
   ],
   "source": [
    "# Running the application\n",
    "if __name__ == \"__main__\":\n",
    "    main()"
   ]
  },
  {
   "cell_type": "code",
   "execution_count": null,
   "id": "7894b62f-f2f0-41ec-adea-d597e5c761f5",
   "metadata": {},
   "outputs": [],
   "source": []
  },
  {
   "cell_type": "code",
   "execution_count": null,
   "id": "2df9fe08-b0d1-4811-bf0b-414b29b6e4b0",
   "metadata": {},
   "outputs": [],
   "source": []
  },
  {
   "cell_type": "code",
   "execution_count": null,
   "id": "d34a9330-204a-47da-9a94-d71f0f452150",
   "metadata": {},
   "outputs": [],
   "source": []
  },
  {
   "cell_type": "code",
   "execution_count": null,
   "id": "348343e6-55e8-4a02-a907-b2586ffb764a",
   "metadata": {},
   "outputs": [],
   "source": []
  },
  {
   "cell_type": "code",
   "execution_count": null,
   "id": "e5b4a544-b26a-451b-8ebd-6aadbfac7d76",
   "metadata": {},
   "outputs": [],
   "source": []
  },
  {
   "cell_type": "code",
   "execution_count": null,
   "id": "cc46fa55-6f7a-453d-926e-d15df43aa67c",
   "metadata": {},
   "outputs": [],
   "source": []
  },
  {
   "cell_type": "code",
   "execution_count": null,
   "id": "49491bb9-6990-4dab-8b8b-4b5b106b9f44",
   "metadata": {},
   "outputs": [],
   "source": []
  }
 ],
 "metadata": {
  "kernelspec": {
   "display_name": "Python 3 (ipykernel)",
   "language": "python",
   "name": "python3"
  },
  "language_info": {
   "codemirror_mode": {
    "name": "ipython",
    "version": 3
   },
   "file_extension": ".py",
   "mimetype": "text/x-python",
   "name": "python",
   "nbconvert_exporter": "python",
   "pygments_lexer": "ipython3",
   "version": "3.12.4"
  }
 },
 "nbformat": 4,
 "nbformat_minor": 5
}
