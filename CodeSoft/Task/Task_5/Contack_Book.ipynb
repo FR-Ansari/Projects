{
 "cells": [
  {
   "cell_type": "code",
   "execution_count": 3,
   "id": "ccd8d070-5a31-4f8e-986c-6c8a3fd115fa",
   "metadata": {},
   "outputs": [],
   "source": [
    "import json"
   ]
  },
  {
   "cell_type": "code",
   "execution_count": 5,
   "id": "4a7f3ac8-2777-4b06-be19-28d9d35b01da",
   "metadata": {},
   "outputs": [
    {
     "name": "stdout",
     "output_type": "stream",
     "text": [
      "\n",
      "Contact Book Menu:\n",
      "1. Add Contact\n",
      "2. View Contact List\n",
      "3. Search Contact\n",
      "4. Update Contact\n",
      "5. Delete Contact\n",
      "6. Exit\n"
     ]
    },
    {
     "name": "stdin",
     "output_type": "stream",
     "text": [
      "Enter your choice (1-6):  1\n",
      "Enter name:  Maahi\n",
      "Enter phone number:  1234567893\n",
      "Enter email:  mahi@gmail.com\n",
      "Enter address:  Ahmedabad\n"
     ]
    },
    {
     "name": "stdout",
     "output_type": "stream",
     "text": [
      "Contact added successfully!\n",
      "\n",
      "\n",
      "Contact Book Menu:\n",
      "1. Add Contact\n",
      "2. View Contact List\n",
      "3. Search Contact\n",
      "4. Update Contact\n",
      "5. Delete Contact\n",
      "6. Exit\n"
     ]
    },
    {
     "name": "stdin",
     "output_type": "stream",
     "text": [
      "Enter your choice (1-6):  3\n",
      "Enter name or phone number to search:  maahi\n"
     ]
    },
    {
     "name": "stdout",
     "output_type": "stream",
     "text": [
      "\n",
      "Search Results:\n",
      "Name: Maahi, Phone: 1234567893, Email: mahi@gmail.com, Address: Ahmedabad\n",
      "\n",
      "\n",
      "Contact Book Menu:\n",
      "1. Add Contact\n",
      "2. View Contact List\n",
      "3. Search Contact\n",
      "4. Update Contact\n",
      "5. Delete Contact\n",
      "6. Exit\n"
     ]
    },
    {
     "name": "stdin",
     "output_type": "stream",
     "text": [
      "Enter your choice (1-6):  4\n",
      "Enter the name of the contact to update:  maahi\n"
     ]
    },
    {
     "name": "stdout",
     "output_type": "stream",
     "text": [
      "\n",
      "Enter new details (leave blank to keep existing values):\n"
     ]
    },
    {
     "name": "stdin",
     "output_type": "stream",
     "text": [
      "Name (Maahi):  1472583690\n",
      "Phone (1234567893):  111111111111\n"
     ]
    },
    {
     "name": "stdout",
     "output_type": "stream",
     "text": [
      "Invalid phone number. Update cancelled.\n",
      "\n",
      "Contact Book Menu:\n",
      "1. Add Contact\n",
      "2. View Contact List\n",
      "3. Search Contact\n",
      "4. Update Contact\n",
      "5. Delete Contact\n",
      "6. Exit\n"
     ]
    },
    {
     "name": "stdin",
     "output_type": "stream",
     "text": [
      "Enter your choice (1-6):  6\n"
     ]
    },
    {
     "name": "stdout",
     "output_type": "stream",
     "text": [
      "Contacts saved successfully. Exiting Contact Book. Goodbye!\n"
     ]
    }
   ],
   "source": [
    "\n",
    "class ContactBook:\n",
    "    def __init__(self):\n",
    "        self.contacts = []\n",
    "        self.load_contacts()\n",
    "\n",
    "    def load_contacts(self):\n",
    "        try:\n",
    "            with open(\"contacts.json\", \"r\") as file:\n",
    "                self.contacts = json.load(file)\n",
    "        except FileNotFoundError:\n",
    "            self.contacts = []\n",
    "\n",
    "    def save_contacts(self):\n",
    "        with open(\"contacts.json\", \"w\") as file:\n",
    "            json.dump(self.contacts, file, indent=4)\n",
    "\n",
    "    def add_contact(self, name, phone, email, address):\n",
    "        if not phone.isdigit() or len(phone) != 10:\n",
    "            print(\"Invalid phone number. Please enter a 10-digit number.\")\n",
    "            return\n",
    "\n",
    "        if \"@\" not in email or \".\" not in email:\n",
    "            print(\"Invalid email address. Please enter a valid email.\")\n",
    "            return\n",
    "\n",
    "        self.contacts.append({\n",
    "            \"name\": name,\n",
    "            \"phone\": phone,\n",
    "            \"email\": email,\n",
    "            \"address\": address\n",
    "        })\n",
    "        print(\"Contact added successfully!\\n\")\n",
    "\n",
    "    def view_contacts(self):\n",
    "        if not self.contacts:\n",
    "            print(\"No contacts found.\\n\")\n",
    "        else:\n",
    "            print(\"\\nContact List (sorted by name):\")\n",
    "            sorted_contacts = sorted(self.contacts, key=lambda x: x['name'].lower())\n",
    "            for i, contact in enumerate(sorted_contacts, 1):\n",
    "                print(f\"{i}. {contact['name']} - {contact['phone']}\")\n",
    "            print()\n",
    "\n",
    "    def search_contact(self, search_term):\n",
    "        from difflib import get_close_matches\n",
    "\n",
    "        results = [\n",
    "            contact for contact in self.contacts\n",
    "            if search_term.lower() in contact['name'].lower() or search_term in contact['phone']\n",
    "        ]\n",
    "\n",
    "        if not results:\n",
    "            close_matches = get_close_matches(search_term.lower(), [contact['name'].lower() for contact in self.contacts])\n",
    "            if close_matches:\n",
    "                print(\"\\nDid you mean?\")\n",
    "                for match in close_matches:\n",
    "                    matching_contact = next(contact for contact in self.contacts if contact['name'].lower() == match)\n",
    "                    print(f\"Name: {matching_contact['name']}, Phone: {matching_contact['phone']}, Email: {matching_contact['email']}, Address: {matching_contact['address']}\")\n",
    "                print()\n",
    "            else:\n",
    "                print(\"No contacts found with the given search term.\\n\")\n",
    "        else:\n",
    "            print(\"\\nSearch Results:\")\n",
    "            for contact in results:\n",
    "                print(f\"Name: {contact['name']}, Phone: {contact['phone']}, Email: {contact['email']}, Address: {contact['address']}\")\n",
    "            print()\n",
    "\n",
    "    def update_contact(self, name):\n",
    "        for contact in self.contacts:\n",
    "            if contact['name'].lower() == name.lower():\n",
    "                print(\"\\nEnter new details (leave blank to keep existing values):\")\n",
    "\n",
    "                new_name = input(f\"Name ({contact['name']}): \") or contact['name']\n",
    "\n",
    "                new_phone = input(f\"Phone ({contact['phone']}): \")\n",
    "                if new_phone and (not new_phone.isdigit() or len(new_phone) != 10):\n",
    "                    print(\"Invalid phone number. Update cancelled.\")\n",
    "                    return\n",
    "\n",
    "                new_email = input(f\"Email ({contact['email']}): \")\n",
    "                if new_email and (\"@\" not in new_email or \".\" not in new_email):\n",
    "                    print(\"Invalid email address. Update cancelled.\")\n",
    "                    return\n",
    "\n",
    "                new_address = input(f\"Address ({contact['address']}): \") or contact['address']\n",
    "\n",
    "                contact.update({\n",
    "                    \"name\": new_name,\n",
    "                    \"phone\": new_phone or contact['phone'],\n",
    "                    \"email\": new_email or contact['email'],\n",
    "                    \"address\": new_address\n",
    "                })\n",
    "                print(\"Contact updated successfully!\\n\")\n",
    "                return\n",
    "\n",
    "        print(\"Contact not found.\\n\")\n",
    "\n",
    "    def delete_contact(self, name):\n",
    "        for contact in self.contacts:\n",
    "            if contact['name'].lower() == name.lower():\n",
    "                self.contacts.remove(contact)\n",
    "                print(\"Contact deleted successfully!\\n\")\n",
    "                return\n",
    "\n",
    "        print(\"Contact not found.\\n\")\n",
    "\n",
    "\n",
    "def main():\n",
    "    contact_book = ContactBook()\n",
    "\n",
    "    while True:\n",
    "        print(\"\\nContact Book Menu:\")\n",
    "        print(\"1. Add Contact\")\n",
    "        print(\"2. View Contact List\")\n",
    "        print(\"3. Search Contact\")\n",
    "        print(\"4. Update Contact\")\n",
    "        print(\"5. Delete Contact\")\n",
    "        print(\"6. Exit\")\n",
    "\n",
    "        choice = input(\"Enter your choice (1-6): \")\n",
    "\n",
    "        if choice == '1':\n",
    "            name = input(\"Enter name: \")\n",
    "            phone = input(\"Enter phone number: \")\n",
    "            email = input(\"Enter email: \")\n",
    "            address = input(\"Enter address: \")\n",
    "            contact_book.add_contact(name, phone, email, address)\n",
    "\n",
    "        elif choice == '2':\n",
    "            contact_book.view_contacts()\n",
    "\n",
    "        elif choice == '3':\n",
    "            search_term = input(\"Enter name or phone number to search: \")\n",
    "            contact_book.search_contact(search_term)\n",
    "\n",
    "        elif choice == '4':\n",
    "            name = input(\"Enter the name of the contact to update: \")\n",
    "            contact_book.update_contact(name)\n",
    "\n",
    "        elif choice == '5':\n",
    "            name = input(\"Enter the name of the contact to delete: \")\n",
    "            contact_book.delete_contact(name)\n",
    "\n",
    "        elif choice == '6':\n",
    "            contact_book.save_contacts()\n",
    "            print(\"Contacts saved successfully. Exiting Contact Book. Goodbye!\")\n",
    "            break\n",
    "\n",
    "        else:\n",
    "            print(\"Invalid choice. Please try again.\\n\")\n",
    "\n",
    "\n",
    "if __name__ == \"__main__\":\n",
    "    main()\n"
   ]
  }
 ],
 "metadata": {
  "kernelspec": {
   "display_name": "Python 3 (ipykernel)",
   "language": "python",
   "name": "python3"
  },
  "language_info": {
   "codemirror_mode": {
    "name": "ipython",
    "version": 3
   },
   "file_extension": ".py",
   "mimetype": "text/x-python",
   "name": "python",
   "nbconvert_exporter": "python",
   "pygments_lexer": "ipython3",
   "version": "3.12.4"
  }
 },
 "nbformat": 4,
 "nbformat_minor": 5
}
