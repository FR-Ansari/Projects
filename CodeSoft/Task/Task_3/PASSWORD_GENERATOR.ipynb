{
 "cells": [
  {
   "cell_type": "code",
   "execution_count": 1,
   "id": "f77adb0c-e432-4847-82f8-379d91692188",
   "metadata": {},
   "outputs": [
    {
     "name": "stdout",
     "output_type": "stream",
     "text": [
      "Requirement already satisfied: termcolor in c:\\users\\jj infotech\\anaconda3\\lib\\site-packages (2.5.0)\n",
      "Note: you may need to restart the kernel to use updated packages.\n"
     ]
    }
   ],
   "source": [
    "pip install termcolor"
   ]
  },
  {
   "cell_type": "code",
   "execution_count": 2,
   "id": "ff754b00-4eda-476f-bd5f-18421d9d0cf3",
   "metadata": {},
   "outputs": [],
   "source": [
    "import random"
   ]
  },
  {
   "cell_type": "code",
   "execution_count": 3,
   "id": "d88313ec-9ca7-4538-b717-8406be1f4ca8",
   "metadata": {},
   "outputs": [],
   "source": [
    "import string"
   ]
  },
  {
   "cell_type": "code",
   "execution_count": 4,
   "id": "0b5d0eeb-7d91-4cba-aef9-6f0d7e4134cc",
   "metadata": {},
   "outputs": [],
   "source": [
    "from termcolor import colored  #colored the output to make it visually attractive"
   ]
  },
  {
   "cell_type": "code",
   "execution_count": 5,
   "id": "a151b20c-75b6-4b71-a9bf-9d2210d8c8eb",
   "metadata": {},
   "outputs": [],
   "source": [
    "def generate_password(length):                                               # Function to generate a random password\n",
    "    characters = string.ascii_letters + string.digits + string.punctuation   # Defining possible characters for the password\n",
    "\n",
    "    password = ''.join(random.choice(characters) for _ in range(length))    # Generate a random password of the specified length\n",
    " \n",
    "    return password"
   ]
  },
  {
   "cell_type": "code",
   "execution_count": 6,
   "id": "576829b3-fa9c-45e6-aef0-83347b688681",
   "metadata": {},
   "outputs": [],
   "source": [
    "def display_message(message, color=\"green\"):                                # Function to display a colorful message\n",
    "\n",
    "    print(colored(message, color))"
   ]
  },
  {
   "cell_type": "code",
   "execution_count": 7,
   "id": "7e7c8ae6-0573-4ec5-8f7e-10988972365a",
   "metadata": {},
   "outputs": [
    {
     "name": "stdout",
     "output_type": "stream",
     "text": [
      "\u001b[36mWelcome to the Password Generator!\u001b[0m\n"
     ]
    },
    {
     "name": "stdin",
     "output_type": "stream",
     "text": [
      "\u001b[33mEnter the desired length of the password: \u001b[0m 5\n"
     ]
    },
    {
     "name": "stdout",
     "output_type": "stream",
     "text": [
      "\u001b[35mYour Generated Password is: =9j8\"\u001b[0m\n"
     ]
    }
   ],
   "source": [
    "# Prompt the user for the desired password length\n",
    "display_message(\"Welcome to the Password Generator!\", \"cyan\")\n",
    "length = int(input(colored(\"Enter the desired length of the password: \", \"yellow\")))\n",
    "\n",
    "# Check if the length is valid (greater than 0)\n",
    "if length > 0:\n",
    "    # Generate and display the password\n",
    "    password = generate_password(length)\n",
    "    display_message(f\"Your Generated Password is: {password}\", \"magenta\")\n",
    "else:\n",
    "    display_message(\"Please enter a valid length greater than 0.\", \"red\")"
   ]
  }
 ],
 "metadata": {
  "kernelspec": {
   "display_name": "Python 3 (ipykernel)",
   "language": "python",
   "name": "python3"
  },
  "language_info": {
   "codemirror_mode": {
    "name": "ipython",
    "version": 3
   },
   "file_extension": ".py",
   "mimetype": "text/x-python",
   "name": "python",
   "nbconvert_exporter": "python",
   "pygments_lexer": "ipython3",
   "version": "3.12.4"
  }
 },
 "nbformat": 4,
 "nbformat_minor": 5
}
